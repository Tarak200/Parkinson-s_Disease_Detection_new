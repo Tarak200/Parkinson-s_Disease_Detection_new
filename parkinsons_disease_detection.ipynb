{
  "nbformat": 4,
  "nbformat_minor": 0,
  "metadata": {
    "colab": {
      "provenance": []
    },
    "kernelspec": {
      "name": "python3",
      "display_name": "Python 3"
    },
    "language_info": {
      "name": "python"
    }
  },
  "cells": [
    {
      "cell_type": "code",
      "execution_count": 32,
      "metadata": {
        "id": "3RcmH00D3XmM"
      },
      "outputs": [],
      "source": [
        "import numpy as np\n",
        "import pandas as pd\n",
        "from sklearn.model_selection import train_test_split, GridSearchCV\n",
        "from sklearn.linear_model import Lasso\n",
        "from sklearn.pipeline import Pipeline\n",
        "from sklearn.svm import SVC\n",
        "from sklearn.metrics import accuracy_score\n",
        "import matplotlib.pyplot as plt\n",
        "from xgboost import XGBClassifier as xgb\n",
        "import xgboost as xg\n",
        "from sklearn.preprocessing import StandardScaler\n",
        "from sklearn.metrics import classification_report, confusion_matrix\n",
        "from imblearn.over_sampling import SMOTE\n"
      ]
    },
    {
      "cell_type": "code",
      "source": [
        "#reading the data to Final_Data  \n",
        "Final_Data = pd.read_csv('Parkinsons.csv')\n",
        "\n",
        "# Poping out the status of Parkinson's Disease in patients\n",
        "y = Final_Data.pop('status')\n",
        "name  = Final_Data.pop('name')\n",
        "\n",
        "#storing the new data to varibale x\n",
        "x = Final_Data\n",
        "\n",
        "# Resample the minority class. You can change the strategy to 'auto' if you are not sure.\n",
        "sm = SMOTE(sampling_strategy='auto', random_state=7)\n",
        "\n",
        "# Fit the model to generate the new balanced data.\n",
        "oversampled_trainX, oversampled_trainY = sm.fit_resample(x, y)\n",
        "oversampled_train = pd.concat([pd.DataFrame(oversampled_trainX), pd.DataFrame(oversampled_trainY)], axis=1)\n",
        "\n",
        "# plotting the y=0 and y=1 values by giving the dataframe as argument\n",
        "def plot(X):\n",
        "  x_0=0\n",
        "  x_1=0\n",
        "  for i in range(len(X)):\n",
        "    if(X[i]==1):\n",
        "      x_0 = x_0+1\n",
        "    else:\n",
        "      x_1 = x_1+1\n",
        "\n",
        "  x_values = [0,1]\n",
        "  y_values = [x_0,x_1]\n",
        "\n",
        "  plt.bar(x_values,y_values)\n",
        "  plt.show()\n",
        "  return \n",
        "\n",
        "#Representation of data before and after oversampling\n",
        "plt.title(\"Imbalance Data before using SMOTE\")\n",
        "plot(y)\n",
        "\n",
        "plt.title(\"New dataset after using SMOTE\")\n",
        "plot(oversampled_trainY)\n"
      ],
      "metadata": {
        "colab": {
          "base_uri": "https://localhost:8080/",
          "height": 545
        },
        "id": "AJmfhO0QNaZs",
        "outputId": "f25d82d4-e821-449a-ab16-94e26885ffde"
      },
      "execution_count": 33,
      "outputs": [
        {
          "output_type": "display_data",
          "data": {
            "text/plain": [
              "<Figure size 432x288 with 1 Axes>"
            ],
            "image/png": "[encoded data removed]"
          },
          "metadata": {
            "needs_background": "light"
          }
        },
        {
          "output_type": "display_data",
          "data": {
            "text/plain": [
              "<Figure size 432x288 with 1 Axes>"
            ],
            "image/png": "[encoded data removed]"
          },
          "metadata": {
            "needs_background": "light"
          }
        }
      ]
    },
    {
      "cell_type": "code",
      "source": [
        "#feature selection using Lasso\n",
        "pipeline = Pipeline([ ('scaler', StandardScaler()), ('model', Lasso()) ])\n",
        "search = GridSearchCV(pipeline, {'model__alpha':np.arange(0.1,10,0.1)}, scoring='neg_mean_squared_error', cv=5)\n",
        "search.fit(oversampled_trainX, oversampled_trainY)\n",
        "search.best_params_\n",
        "coefficients = search.best_estimator_.named_steps['model'].coef_\n",
        "importance = np.abs(coefficients)\n",
        "features = oversampled_trainX.columns\n",
        "selected_features = features[importance>0]\n",
        "dropped_features = features[importance==0]\n",
        "X_final = oversampled_trainX.drop(dropped_features, axis = 'columns')\n",
        "selected_features"
      ],
      "metadata": {
        "colab": {
          "base_uri": "https://localhost:8080/"
        },
        "id": "M9dOry6lNDxI",
        "outputId": "d74781cf-d08f-4817-d17c-9dfa8a177971"
      },
      "execution_count": 35,
      "outputs": [
        {
          "output_type": "execute_result",
          "data": {
            "text/plain": [
              "Index(['spread1', 'spread2'], dtype='object')"
            ]
          },
          "metadata": {},
          "execution_count": 35
        }
      ]
    },
    {
      "cell_type": "code",
      "source": [
        "#divding data into training and testing data in 0.8 and 0.2 proportion respectively\n",
        "X_train, X_test, Y_train, Y_test = train_test_split(oversampled_trainX, oversampled_trainY,test_size = 0.2, random_state = 23)\n",
        "\n",
        "# SVC Model\n",
        "clf = SVC()\n",
        "clf.fit(X_train, Y_train)\n",
        "y_pred = clf.predict(X_test)\n",
        "#print(y_pred)\n",
        "YY = [y_pred, Y_test]\n",
        "\n",
        "#The results of the SVC model prediction \n",
        "\n",
        "print(confusion_matrix(Y_test, y_pred))\n",
        "print(classification_report(Y_test,y_pred))\n",
        "print(\"The accuracy of SVC model\",accuracy_score(Y_test, y_pred))"
      ],
      "metadata": {
        "colab": {
          "base_uri": "https://localhost:8080/"
        },
        "id": "Zearp5XyFMfH",
        "outputId": "a202ac7b-4f2c-4321-d215-87d34cc1affe"
      },
      "execution_count": 37,
      "outputs": [
        {
          "output_type": "stream",
          "name": "stdout",
          "text": [
            "[[19 13]\n",
            " [ 7 20]]\n",
            "The accuracy of SVC model 0.6610169491525424\n",
            "              precision    recall  f1-score   support\n",
            "\n",
            "           0       0.73      0.59      0.66        32\n",
            "           1       0.61      0.74      0.67        27\n",
            "\n",
            "    accuracy                           0.66        59\n",
            "   macro avg       0.67      0.67      0.66        59\n",
            "weighted avg       0.67      0.66      0.66        59\n",
            "\n"
          ]
        }
      ]
    },
    {
      "cell_type": "code",
      "source": [
        "## XGBoost Model\n",
        "\n",
        "xg_reg = xg.XGBRegressor(objective ='reg:linear', colsample_bytree = 0.3, learning_rate = 0.1,\n",
        "                max_depth = 5, alpha = 10, n_estimators = 10)\n",
        "\n",
        "#training xgBoost model using training data\n",
        "xg_reg.fit(X_train, Y_train)\n",
        "\n",
        "#predicting the output for test data using the trained model\n",
        "y_pred1 = xg_reg.predict(X_test)\n"
      ],
      "metadata": {
        "colab": {
          "base_uri": "https://localhost:8080/"
        },
        "id": "DGjbPVj18Kfm",
        "outputId": "1e85d917-16b1-4dbd-df51-d5fa6711706a"
      },
      "execution_count": 38,
      "outputs": [
        {
          "output_type": "stream",
          "name": "stdout",
          "text": [
            "[12:09:33] WARNING: ../src/objective/regression_obj.cu:213: reg:linear is now deprecated in favor of reg:squarederror.\n"
          ]
        }
      ]
    },
    {
      "cell_type": "code",
      "source": [
        "#XGBoost predicted the values between 0 and 1\n",
        "#converting predicted values into 0 and 1 using 0.5 as threshold\n",
        "\n",
        "y_pred2=[]\n",
        "for value in y_pred1:\n",
        "  if (value>=0.5):\n",
        "    y_pred2.append(1)\n",
        "  else:\n",
        "    y_pred2.append(0)\n",
        "\n",
        "#y_pred2 contains the rounded predicted values\n",
        "\n",
        "#The results of the XGBoost model prediction\n",
        "print(confusion_matrix(Y_test, y_pred2))\n",
        "print(classification_report(Y_test,y_pred2))\n",
        "print(\"The accuracy of XGBoost model is\", accuracy_score(Y_test,y_pred2))\n",
        "\n"
      ],
      "metadata": {
        "colab": {
          "base_uri": "https://localhost:8080/"
        },
        "id": "eGHAIVQ8Abcj",
        "outputId": "19d329a8-063f-4d52-9368-2297c46a34e4"
      },
      "execution_count": 40,
      "outputs": [
        {
          "output_type": "stream",
          "name": "stdout",
          "text": [
            "[[31  1]\n",
            " [ 5 22]]\n",
            "              precision    recall  f1-score   support\n",
            "\n",
            "           0       0.86      0.97      0.91        32\n",
            "           1       0.96      0.81      0.88        27\n",
            "\n",
            "    accuracy                           0.90        59\n",
            "   macro avg       0.91      0.89      0.90        59\n",
            "weighted avg       0.90      0.90      0.90        59\n",
            "\n",
            "The accuracy of XGBoost model is 0.8983050847457628\n"
          ]
        }
      ]
    }
  ]
}